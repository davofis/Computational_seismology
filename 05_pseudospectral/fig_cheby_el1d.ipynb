{
 "cells": [
  {
   "cell_type": "markdown",
   "metadata": {},
   "source": [
    "<div style='background-image: url(\"../../share/images/header.svg\") ; padding: 0px ; background-size: cover ; border-radius: 5px ; height: 250px'>\n",
    "    <div style=\"float: right ; margin: 50px ; padding: 20px ; background: rgba(255 , 255 , 255 , 0.7) ; width: 50% ; height: 150px\">\n",
    "        <div style=\"position: relative ; top: 50% ; transform: translatey(-50%)\">\n",
    "            <div style=\"font-size: xx-large ; font-weight: 900 ; color: rgba(0 , 0 , 0 , 0.8) ; line-height: 100%\">Computational Seismology</div>\n",
    "            <div style=\"font-size: large ; padding-top: 20px ; color: rgba(0 , 0 , 0 , 0.5)\">The Chebyshev Pseudospectral Method - Elastic Waves in 1D</div>\n",
    "        </div>\n",
    "    </div>\n",
    "</div>"
   ]
  },
  {
   "cell_type": "markdown",
   "metadata": {},
   "source": [
    "Seismo-Live: http://seismo-live.org\n",
    "\n",
    "##### Authors:\n",
    "* David Vargas ([@dvargas](https://github.com/davofis))\n",
    "* Heiner Igel ([@heinerigel](https://github.com/heinerigel))\n",
    "---"
   ]
  },
  {
   "cell_type": "markdown",
   "metadata": {},
   "source": [
    "## Basic Equations\n",
    "Below there is the code solving the 1D acoustic wave equation"
   ]
  },
  {
   "cell_type": "code",
   "execution_count": null,
   "metadata": {
    "collapsed": true
   },
   "outputs": [],
   "source": [
    "# This is a configuration step for the exercise. Please run it before calculating the derivative!\n",
    "import numpy as np\n",
    "import matplotlib.pyplot as plt\n",
    "from ricker import ricker \n",
    "\n",
    "# Show the plots in the Notebook.\n",
    "plt.switch_backend(\"nbagg\")"
   ]
  },
  {
   "cell_type": "markdown",
   "metadata": {},
   "source": [
    "### 1. Chebyshev derivative method"
   ]
  },
  {
   "cell_type": "code",
   "execution_count": null,
   "metadata": {
    "collapsed": true
   },
   "outputs": [],
   "source": [
    "def get_cheby_matrix(nx):\n",
    "    cx = np.zeros(nx+1)\n",
    "    x = np.zeros(nx+1)\n",
    "    for ix in range(0,nx+1):\n",
    "        x[ix] = np.cos(np.pi * ix / nx)\n",
    "   \n",
    "    cx[0] = 2.\n",
    "    cx[nx] = 2.\n",
    "    cx[1:nx] = 1.\n",
    "   \n",
    "    D = np.zeros((nx+1,nx+1))\n",
    "    for i in range(0, nx+1):\n",
    "        for j in range(0, nx+1):\n",
    "            if i==j and i!=0 and i!=nx:\n",
    "                D[i,i]=-x[i]/(2.0*(1.0-x[i]*x[i]))\n",
    "            else:\n",
    "                D[i,j]=(cx[i]*(-1)**(i+j))/(cx[j]*(x[i]-x[j]))\n",
    "  \n",
    "    D[0,0] = (2.*nx**2+1.)/6.\n",
    "    D[nx,nx] = -D[0,0]\n",
    "    return D "
   ]
  },
  {
   "cell_type": "markdown",
   "metadata": {},
   "source": [
    "### 2. Initialization of setup"
   ]
  },
  {
   "cell_type": "code",
   "execution_count": null,
   "metadata": {
    "collapsed": true
   },
   "outputs": [],
   "source": [
    "# Basic parameters\n",
    "# ---------------------------------------------------------------\n",
    "#nt = 5000    # number of time steps\n",
    "tmax = 0.0006\n",
    "eps  = 1.4  # stability limit\n",
    "isx  = 100\n",
    "lw   = 0.7\n",
    "ft   = 10\n",
    "\n",
    "# material parameters\n",
    "rho = 2500.\n",
    "c   = 3000.\n",
    "mu  = rho*c**2\n",
    "\n",
    "# space domain\n",
    "nx = 199     # number of grid points in x \n",
    "xs = np.floor(nx/2)      # source location\n",
    "xr = np.floor(nx*0.8)\n",
    "x  = np.zeros(nx+1) \n",
    "\n",
    "# initialization of pressure fields\n",
    "p = np.zeros(nx+1) #****\n",
    "pnew = np.zeros(nx+1)\n",
    "pold = np.zeros(nx+1)\n",
    "d2p  = np.zeros(nx+1) \n",
    "\n",
    "for ix in range(0,nx+1):\n",
    "    x[ix] = np.cos(ix * np.pi / nx) \n",
    "dxmin = min(abs(np.diff(x)))\n",
    "dxmax = max(abs(np.diff(x)))\n",
    "\n",
    "dt = eps*dxmin/c # calculate tim step from stability criterion\n",
    "nt = int(round(tmax/dt))\n",
    "\n",
    "f0 = 100000     # dominant frequency"
   ]
  },
  {
   "cell_type": "markdown",
   "metadata": {},
   "source": [
    "### 3. Source Initialization "
   ]
  },
  {
   "cell_type": "code",
   "execution_count": null,
   "metadata": {
    "collapsed": false
   },
   "outputs": [],
   "source": [
    "# source time function\n",
    "# ---------------------------------------------------------------\n",
    "t = np.arange(1, nt+1)*dt  # initialize time axis\n",
    "T0 = 1./f0\n",
    "tmp = ricker(dt, T0)\n",
    "isrc = tmp\n",
    "tmp = np.diff(tmp)\n",
    "src = np.zeros(nt) \n",
    "src[0:np.size(tmp)] = tmp\n",
    "\n",
    "#spatial source function\n",
    "# ---------------------------------------------------------------\n",
    "sigma = 1.5*dxmax\n",
    "x0 = x[int(xs)]\n",
    "sg = np.exp(-1/sigma**2*(x-x0)**2)\n",
    "sg = sg/max(sg) "
   ]
  },
  {
   "cell_type": "markdown",
   "metadata": {},
   "source": [
    "### 4. Time Extrapolation"
   ]
  },
  {
   "cell_type": "code",
   "execution_count": null,
   "metadata": {
    "collapsed": false
   },
   "outputs": [],
   "source": [
    "# Diff matrix\n",
    "D = get_cheby_matrix(nx)    \n",
    "\n",
    "#%% CODE 06: Listing 5.4 Chebyshev Method  - Pag 125 \n",
    "# Chebyshev Method\n",
    "for it in range(nt):\n",
    "    # Space derivatives\n",
    "    dp = np.dot(D, np.transpose(p))\n",
    "    dp = mu/rho * dp\n",
    "    dp = np.dot(D, dp)\n",
    "    \n",
    "    # Time extrapolation \n",
    "    pnew = 2*p - pold + np.transpose(dp) * dt**2\n",
    "    \n",
    "    # Source injection\n",
    "    pnew = pnew + sg*src[it]*dt**2/rho\n",
    "    \n",
    "    # Remapping\n",
    "    pold, p = p, pnew\n",
    "    p[0] = 0; p[nx] = 0 # set boundaries pressure free \n",
    "        \n",
    "    if it == 1700:         \n",
    "        plt.subplot(2,1,1)\n",
    "        # get interpolated function\n",
    "        xi = np.linspace(-1,1,10000)\n",
    "#        fi = int_cheby(p,xi)\n",
    "        plt.plot(x,p,'.')\n",
    "#        plt.plot(xi,fi)\n",
    "        plt.xlim([.22, .37])\n",
    "        plt.ylabel(' Displacement')\n",
    "    \n",
    "    if it == 5400:                          \n",
    "        plt.subplot(2,1,2)\n",
    "        # get interpolated function\n",
    "        xi = np.linspace(-1,1,10000)\n",
    "#        fi = int_cheby(p,xi)\n",
    "        plt.plot(x,p,'.')\n",
    "#        plt.plot(xi,fi)\n",
    "        plt.xlim([.85, 1])\n",
    "        plt.xlabel('x')\n",
    "        plt.ylabel('Displacement')\n",
    "\n",
    "#plt.savefig('Fig_5.4.png')\n",
    "plt.show()"
   ]
  },
  {
   "cell_type": "code",
   "execution_count": null,
   "metadata": {
    "collapsed": true
   },
   "outputs": [],
   "source": []
  }
 ],
 "metadata": {
  "kernelspec": {
   "display_name": "Python 3",
   "language": "python",
   "name": "python3"
  },
  "language_info": {
   "codemirror_mode": {
    "name": "ipython",
    "version": 3
   },
   "file_extension": ".py",
   "mimetype": "text/x-python",
   "name": "python",
   "nbconvert_exporter": "python",
   "pygments_lexer": "ipython3",
   "version": "3.5.2"
  }
 },
 "nbformat": 4,
 "nbformat_minor": 0
}
