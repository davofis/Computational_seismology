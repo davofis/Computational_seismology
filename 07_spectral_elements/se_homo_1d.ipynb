{
 "cells": [
  {
   "cell_type": "markdown",
   "metadata": {},
   "source": [
    "<div style='background-image: url(\"../../share/images/header.svg\") ; padding: 0px ; background-size: cover ; border-radius: 5px ; height: 250px'>\n",
    "    <div style=\"float: right ; margin: 50px ; padding: 20px ; background: rgba(255 , 255 , 255 , 0.7) ; width: 50% ; height: 150px\">\n",
    "        <div style=\"position: relative ; top: 50% ; transform: translatey(-50%)\">\n",
    "            <div style=\"font-size: xx-large ; font-weight: 900 ; color: rgba(0 , 0 , 0 , 0.8) ; line-height: 100%\">Computational Seismology</div>\n",
    "            <div style=\"font-size: large ; padding-top: 20px ; color: rgba(0 , 0 , 0 , 0.5)\">Spectral Element Method - 1D Elastic Wave Equation</div>\n",
    "        </div>\n",
    "    </div>\n",
    "</div>"
   ]
  },
  {
   "cell_type": "markdown",
   "metadata": {},
   "source": [
    "Seismo-Live: http://seismo-live.org\n",
    "\n",
    "##### Authors:\n",
    "* David Vargas ([@dvargas](https://github.com/davofis))\n",
    "* Heiner Igel ([@heinerigel](https://github.com/heinerigel))"
   ]
  },
  {
   "cell_type": "markdown",
   "metadata": {},
   "source": [
    "## Basic Equations"
   ]
  },
  {
   "cell_type": "code",
   "execution_count": null,
   "metadata": {
    "collapsed": true
   },
   "outputs": [],
   "source": [
    "# Import all necessary libraries, this is a configuration step for the exercise.\n",
    "# Please run it before the simulation code!\n",
    "import numpy as np\n",
    "import matplotlib.pyplot as plt\n",
    "\n",
    "from gll import gll\n",
    "from lagrange1st import lagrange1st \n",
    "from ricker import ricker\n",
    "\n",
    "# Show the plots in the Notebook.\n",
    "plt.switch_backend(\"nbagg\")"
   ]
  },
  {
   "cell_type": "markdown",
   "metadata": {},
   "source": [
    "### 1. Initialization of setup"
   ]
  },
  {
   "cell_type": "code",
   "execution_count": null,
   "metadata": {
    "collapsed": false
   },
   "outputs": [],
   "source": [
    "# Initialization of setup\n",
    "# ---------------------------------------------------------------\n",
    "nt    = 10000         # number of time steps\n",
    "xmax  = 10000.        # Length of domain [m]\n",
    "vs    = 2500.         # S velocity [m/s]\n",
    "rho   = 2000          # Density [kg/m^3]\n",
    "mu    = rho * vs**2   # Shear modulus mu\n",
    "N     = 3             # Order of Lagrange polynomials\n",
    "ne    = 250           # Number of elements\n",
    "Tdom  = .2            # Dominant period of Ricker source wavelet\n",
    "iplot = 20            # Plotting each iplot snapshot\n",
    "\n",
    "# variables for elemental matrices\n",
    "Me = np.zeros(N+1, dtype =  float)\n",
    "Ke = np.zeros((N+1, N+1), dtype =  float)\n",
    "# ----------------------------------------------------------------\n",
    "\n",
    "# Initialization of GLL points integration weights\n",
    "[xi, w] = gll(N)    # xi, N+1 coordinates [-1 1] of GLL points\n",
    "                    # w Integration weights at GLL locations\n",
    "# Space domain\n",
    "le = xmax/ne        # Length of elements\n",
    "# Vector with GLL points  \n",
    "k = 0\n",
    "xg = np.zeros((N*ne)+1) \n",
    "xg[k] = 0\n",
    "for i in range(1,ne+1):\n",
    "    for j in range(0,N):\n",
    "        k = k+1\n",
    "        xg[k] = (i-1)*le + .5*(xi[j+1]+1)*le\n",
    "\n",
    "# ---------------------------------------------------------------\n",
    "dxmin = min(np.diff(xg))  \n",
    "eps = 0.1           # Courant value\n",
    "dt = eps*dxmin/vs   # Global time step\n",
    "\n",
    "# Mapping - Jacobian\n",
    "J = le/2 \n",
    "Ji = 1/J    # Inverse Jacobian\n",
    "\n",
    "# 1st derivative of Lagrange polynomials\n",
    "l1d = lagrange1st(N)   # Array with GLL as columns for each N+1 polynomial\n"
   ]
  },
  {
   "cell_type": "markdown",
   "metadata": {},
   "source": [
    "### 2. "
   ]
  },
  {
   "cell_type": "code",
   "execution_count": null,
   "metadata": {
    "collapsed": true
   },
   "outputs": [],
   "source": [
    "# Elemental Mass matrix\n",
    "# ---------------------------------------------------------------\n",
    "for i in range(0, N+1):\n",
    "    Me[i] = rho * w[i] * J    #stored as a vector since it's diagonal\n",
    "                                \n",
    "# Global Mass matrix\n",
    "# --------------------------------------------------------------- \n",
    "k = -1\n",
    "ng = (ne-1)*N + N + 1\n",
    "M = np.zeros(2*ng) \n",
    "\n",
    "for i in range(1, ne+1):  \n",
    "    for j in range(0, N+1): \n",
    "        k = k + 1\n",
    "        if i>1:\n",
    "            if j==0:\n",
    "                k = k - 1\n",
    "        M[k] = M[k] + Me[j]\n",
    "\n",
    "# Inverse matrix of M \n",
    "Minv = np.identity(ng)\n",
    "for i in range(0,ng):\n",
    "    Minv[i,i] = 1./M[i]  \n",
    "\n",
    "        "
   ]
  },
  {
   "cell_type": "markdown",
   "metadata": {},
   "source": [
    "### 3. "
   ]
  },
  {
   "cell_type": "code",
   "execution_count": null,
   "metadata": {
    "collapsed": true
   },
   "outputs": [],
   "source": [
    "# Elemental Stiffness Matrix\n",
    "# ---------------------------------------------------------------\n",
    "for i in range(0, N+1):\n",
    "    for j in range(0, N+1):\n",
    "        for k in range(0, N+1):\n",
    "            Ke[i,j] = Ke[i,j] + mu*w[k]*Ji**2 *J*l1d[i,k]*l1d[j,k]\n",
    "        \n",
    "# Global Stiffness Matrix\n",
    "# --------------------------------------------------------------- \n",
    "K = np.zeros([ng, ng])\n",
    "# Values except at element boundaries \n",
    "for k in range(1,ne+1):\n",
    "    i0 = (k-1)*N + 1\n",
    "    j0 = i0\n",
    "    for i in range(-1,N):\n",
    "        for j in range(-1,N):\n",
    "            K[i0+i,j0+j] = Ke[i+1,j+1]\n",
    "            \n",
    "# Values at element boundaries \n",
    "for k in range(2,ne+1):\n",
    "    i0 = (k - 1)*N\n",
    "    j0 = i0\n",
    "    K[i0,j0] = Ke[0,0] + Ke[N,N]"
   ]
  },
  {
   "cell_type": "markdown",
   "metadata": {},
   "source": [
    "### 4. "
   ]
  },
  {
   "cell_type": "code",
   "execution_count": null,
   "metadata": {
    "code_folding": [
     39
    ],
    "collapsed": false
   },
   "outputs": [],
   "source": [
    "# SE Solution, Time extrapolation\n",
    "# ---------------------------------------------------------------\n",
    "\n",
    "# initialize source time function and force vector f\n",
    "src  = ricker(dt,Tdom)\n",
    "isrc = int(np.floor(ng/2))   # Source location\n",
    "\n",
    "# Initialization of solution vectors\n",
    "u = np.zeros(ng)\n",
    "uold = u\n",
    "unew = u\n",
    "f = u \n",
    "\n",
    "# Initialize animated plot\n",
    "# ---------------------------------------------------------------  \n",
    "plt.figure(figsize=(10,6))\n",
    "lines = plt.plot(xg, u, lw=1.5)\n",
    "plt.title('SEM 1D Animation', size=16)\n",
    "plt.xlabel(' x (m)')\n",
    "plt.ylabel(' Amplitude ')\n",
    "\n",
    "plt.ion() # set interective mode\n",
    "plt.show()\n",
    "\n",
    "# ---------------------------------------------------------------\n",
    "# Time extrapolation\n",
    "# ---------------------------------------------------------------\n",
    "for it in range(nt): \n",
    "    # Source initialization\n",
    "    f= np.zeros(ng)\n",
    "    if it < len(src):\n",
    "        f[isrc-1] = src[it-1] \n",
    "               \n",
    "    # Time extrapolation\n",
    "    unew = dt**2 * np.dot(Minv, f - np.dot(K, u)) + 2 * u - uold\n",
    "    uold, u = u, unew\n",
    "\n",
    "    # --------------------------------------   \n",
    "    # Animation plot. Display solution \n",
    "    if not it % iplot:\n",
    "        for l in lines:\n",
    "            l.remove()\n",
    "            del l\n",
    "        # -------------------------------------- \n",
    "        # Display lines            \n",
    "        lines = plt.plot(xg, u, color=\"black\", lw = 1.5)\n",
    "        plt.gcf().canvas.draw()       "
   ]
  }
 ],
 "metadata": {
  "kernelspec": {
   "display_name": "Python 3",
   "language": "python",
   "name": "python3"
  },
  "language_info": {
   "codemirror_mode": {
    "name": "ipython",
    "version": 3
   },
   "file_extension": ".py",
   "mimetype": "text/x-python",
   "name": "python",
   "nbconvert_exporter": "python",
   "pygments_lexer": "ipython3",
   "version": "3.5.2"
  }
 },
 "nbformat": 4,
 "nbformat_minor": 0
}
