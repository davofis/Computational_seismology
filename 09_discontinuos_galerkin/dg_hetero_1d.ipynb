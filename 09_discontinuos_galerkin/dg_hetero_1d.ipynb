{
 "cells": [
  {
   "cell_type": "markdown",
   "metadata": {},
   "source": [
    "<div style='background-image: url(\"../../share/images/header.svg\") ; padding: 0px ; background-size: cover ; border-radius: 5px ; height: 250px'>\n",
    "    <div style=\"float: right ; margin: 50px ; padding: 20px ; background: rgba(255 , 255 , 255 , 0.7) ; width: 50% ; height: 150px\">\n",
    "        <div style=\"position: relative ; top: 50% ; transform: translatey(-50%)\">\n",
    "            <div style=\"font-size: xx-large ; font-weight: 900 ; color: rgba(0 , 0 , 0 , 0.8) ; line-height: 100%\">Computational Seismology</div>\n",
    "            <div style=\"font-size: large ; padding-top: 20px ; color: rgba(0 , 0 , 0 , 0.5)\">Discontinuous Galerkin Method - 1D Elastic Wave Equation, Heterogeneous cases</div>\n",
    "        </div>\n",
    "    </div>\n",
    "</div>"
   ]
  },
  {
   "cell_type": "markdown",
   "metadata": {},
   "source": [
    "Seismo-Live: http://seismo-live.org\n",
    "\n",
    "##### Authors:\n",
    "* David Vargas ([@dvargas](https://github.com/davofis))\n",
    "* Heiner Igel ([@heinerigel](https://github.com/heinerigel))"
   ]
  },
  {
   "cell_type": "markdown",
   "metadata": {},
   "source": [
    "## Basic Equations"
   ]
  },
  {
   "cell_type": "code",
   "execution_count": null,
   "metadata": {
    "collapsed": true
   },
   "outputs": [],
   "source": [
    "# Import all necessary libraries, this is a configuration step for the exercise.\n",
    "# Please run it before the simulation code!\n",
    "import numpy as np\n",
    "import matplotlib.pyplot as plt\n",
    "import matplotlib.animation as animation\n",
    "\n",
    "from gll import gll\n",
    "from lagrange1st import lagrange1st\n",
    "from flux_hetero import flux\n",
    "\n",
    "# Show the plots in the Notebook.\n",
    "plt.switch_backend(\"nbagg\")"
   ]
  },
  {
   "cell_type": "markdown",
   "metadata": {},
   "source": [
    "### 1."
   ]
  },
  {
   "cell_type": "code",
   "execution_count": null,
   "metadata": {
    "collapsed": false
   },
   "outputs": [],
   "source": [
    "# Initialization of setup\n",
    "# --------------------------------------------------------------------------\n",
    "tmax   = 2.5          # Length of seismogram [s]\n",
    "xmax   = 10000        # Length of domain [m]\n",
    "vs0    = 2500         # Advection velocity\n",
    "rho0   = 2500         # Density [kg/m^3]\n",
    "mu0    = rho0*vs0**2  # shear modulus\n",
    "N      = 2            # Order of Lagrange polynomials\n",
    "ne     = 200          # Number of elements\n",
    "sig    = 100          # width of Gaussian initial condition\n",
    "x0     = 4000         # x locartion of Gauss\n",
    "eps    = 0.2          # Courant criterion\n",
    "iplot  = 20           # Plotting frequency\n",
    "imethod = 'RK'        # 'Euler', 'RK'\n",
    "\n",
    "nx = ne*N + 1\n",
    "dx = xmax/(nx-1)      # space increment\n",
    "#--------------------------------------------------------------------\n",
    "\n",
    "# Initialization of GLL points integration weights\n",
    "[xi,w] = gll(N)     # xi, N+1 coordinates [-1 1] of GLL points\n",
    "                    # w Integration weights at GLL locations\n",
    "# Space domain\n",
    "le = xmax/ne       # Length of elements, here equidistent\n",
    "ng = ne*N + 1\n",
    "\n",
    "# Vector with GLL points\n",
    "k = 0\n",
    "xg = np.zeros((N+1)*ne)\n",
    "for i in range(0, ne):\n",
    "    for j in range(0, N+1):\n",
    "        k += 1\n",
    "        xg[k-1] = i*le + .5*(xi[j] + 1)*le\n",
    "\n",
    "x = np.reshape(xg, (N+1, ne), order='F').T\n",
    "\n",
    "# Calculation of time step acoording to Courant criterion\n",
    "dxmin = np.min(np.diff(xg[1:N+1]))\n",
    "dt = eps*dxmin/vs0 # Global time step\n",
    "nt = int(np.floor(tmax/dt))\n",
    "\n",
    "# Mapping - Jacobian\n",
    "J = le/2  # Jacobian\n",
    "Ji = 1/J  # Inverse Jacobian\n",
    "\n",
    "# 1st derivative of Lagrange polynomials\n",
    "l1d = lagrange1st(N)"
   ]
  },
  {
   "cell_type": "markdown",
   "metadata": {},
   "source": [
    "### 2."
   ]
  },
  {
   "cell_type": "code",
   "execution_count": null,
   "metadata": {
    "collapsed": true
   },
   "outputs": [],
   "source": [
    "# Initialization of system matrices\n",
    "# -----------------------------------------------------------------\n",
    "# Elemental Mass matrix\n",
    "M = np.zeros((N+1, N+1))\n",
    "for i in range(0, N+1):\n",
    "    M[i, i] = w[i] * J\n",
    "\n",
    "# Inverse matrix of M (M is diagonal!)\n",
    "Minv = np.identity(N+1)\n",
    "for i in range(0, N+1):\n",
    "    Minv[i,i] = 1. / M[i,i]\n",
    "\n",
    "# Elemental Stiffness Matrix\n",
    "K = np.zeros((N+1, N+1))\n",
    "for i in range(0, N+1):\n",
    "    for j in range(0, N+1):\n",
    "            K[i,j] = w[j] * l1d[i,j] # NxN matrix for every element\n"
   ]
  },
  {
   "cell_type": "markdown",
   "metadata": {},
   "source": [
    "### 3."
   ]
  },
  {
   "cell_type": "code",
   "execution_count": null,
   "metadata": {
    "collapsed": false
   },
   "outputs": [],
   "source": [
    "# Inialize Flux relates matrices\n",
    "# ---------------------------------------------------------------\n",
    "\n",
    "# initialize heterogeneous A\n",
    "Ap  = np.zeros((ne,2,2))\n",
    "Am  = np.zeros((ne,2,2))\n",
    "R   = np.zeros((ne,2,2))\n",
    "L   = np.zeros((ne,2,2))\n",
    "Z   = np.zeros(ne)\n",
    "rho = np.zeros(ne)\n",
    "mu  = np.zeros(ne)\n",
    "\n",
    "# initialize c, rho, mu, and Z\n",
    "rho = rho + rho0\n",
    "rho[int(ne/2):ne] = .25 * rho[int(ne/2):ne] \n",
    "mu = mu + mu0\n",
    "c = np.sqrt(mu/rho)\n",
    "Z = rho * c\n",
    "\n",
    "# Initialize flux matrices\n",
    "for i in range(1,ne-1):\n",
    "    # Left side positive direction\n",
    "    R = np.array([[Z[i], -Z[i]], [1, 1]])\n",
    "    L = np.array([[0, 0], [0, c[i]]])\n",
    "    Ap[i,:,:] = R @ L @ np.linalg.inv(R)\n",
    "\n",
    "    # Right side negative direction\n",
    "    R = np.array([[Z[i], -Z[i]], [1, 1]])\n",
    "    L = np.array([[-c[i], 0 ], [0, 0]])\n",
    "    Am[i,:,:] = R @ L @ np.linalg.inv(R)\n",
    "\n"
   ]
  },
  {
   "cell_type": "markdown",
   "metadata": {},
   "source": [
    "### 4."
   ]
  },
  {
   "cell_type": "code",
   "execution_count": null,
   "metadata": {
    "code_folding": [
     72
    ],
    "collapsed": false
   },
   "outputs": [],
   "source": [
    "# DG Solution, Time extrapolation\n",
    "# ---------------------------------------------------------------\n",
    "\n",
    "# Initalize solution vectors\n",
    "Q    = np.zeros((ne, N+1, 2))\n",
    "Qnew = np.zeros((ne, N+1, 2))\n",
    "\n",
    "k1 = np.zeros((ne, N+1, 2))\n",
    "k2 = np.zeros((ne, N+1, 2))\n",
    "\n",
    "Q[:,:,0] = np.exp(-1/sig**2*((x-x0))**2)\n",
    "Qs = np.zeros(xg.size)  # for plotting\n",
    "Qv = np.zeros(xg.size)  # for plotting\n",
    "\n",
    "# Initialize animated plot\n",
    "# ---------------------------------------------------------------\n",
    "fig = plt.figure(figsize=(10,6))\n",
    "ax1 = fig.add_subplot(2,1,1)\n",
    "ax2 = fig.add_subplot(2,1,2)\n",
    "line1 = ax1.plot(x, Q[:,:,0], 'k', lw=1.5)\n",
    "line2 = ax2.plot(x, Q[:,:,1], 'r', lw=1.5)\n",
    "ax1.axvspan(((nx-1)/2+1)*dx, nx*dx, alpha=0.2, facecolor='b')\n",
    "ax2.axvspan(((nx-1)/2+1)*dx, nx*dx, alpha=0.2, facecolor='b')\n",
    "ax1.set_xlim([0, xmax])\n",
    "ax2.set_xlim([0, xmax])\n",
    "\n",
    "ax1.set_ylabel('Stress')\n",
    "ax2.set_ylabel('Velocity')\n",
    "ax2.set_xlabel(' x ')\n",
    "plt.suptitle('Heterogeneous Disc. Galerkin - %s method'%imethod, size=16)\n",
    "\n",
    "plt.ion() # set interective mode\n",
    "plt.show()\n",
    "\n",
    "# ---------------------------------------------------------------\n",
    "# Time extrapolation\n",
    "# ---------------------------------------------------------------\n",
    "for it in range(nt):\n",
    "    if imethod == 'Euler':\n",
    "        # Calculate Fluxes\n",
    "        Flux = flux(Q, N, ne, Ap, Am)\n",
    "        for i in range(1,ne-1):\n",
    "            Qnew[i,:,0] = dt * Minv @ (-mu[i] * K @ Q[i,:,1].T - Flux[i,:,0].T) + Q[i,:,0].T\n",
    "            Qnew[i,:,1] = dt * Minv @ (-1/rho[i] * K @ Q[i,:,0].T - Flux[i,:,1].T) + Q[i,:,1].T\n",
    "\n",
    "    elif imethod == 'RK':\n",
    "        # Calculate Fluxes\n",
    "        Flux = flux(Q, N, ne, Ap, Am)\n",
    "        for i in range(1,ne-1):\n",
    "            k1[i,:,0] = Minv @ (-mu[i] * K @ Q[i,:,1].T - Flux[i,:,0].T)\n",
    "            k1[i,:,1] = Minv @ (-1/rho[i] * K @ Q[i,:,0].T - Flux[i,:,1].T)\n",
    "\n",
    "        for i in range(1,ne-1):\n",
    "            Qnew[i,:,0] = dt * Minv @ (-mu[i] * K @ Q[i,:,1].T - Flux[i,:,0].T) + Q[i,:,0].T\n",
    "            Qnew[i,:,1] = dt * Minv @ (-1/rho[i] * K @ Q[i,:,0].T - Flux[i,:,1].T) + Q[i,:,1].T\n",
    "\n",
    "        Flux = flux(Qnew,N,ne,Ap,Am)\n",
    "        \n",
    "        for i in range(1,ne-1):\n",
    "            k2[i,:,0] = Minv @ (-mu[i] * K @ Qnew[i,:,1].T - Flux[i,:,0].T)\n",
    "            k2[i,:,1] = Minv @ (-1/rho[i] * K @ Qnew[i,:,0].T - Flux[i,:,1].T)\n",
    "            \n",
    "        # Extrapolate\n",
    "        Qnew = Q + 0.5 * dt * (k1 + k2)\n",
    "\n",
    "    else:\n",
    "        raise NotImplementedError\n",
    "\n",
    "    Q, Qnew = Qnew, Q\n",
    "\n",
    "    # --------------------------------------   \n",
    "    # Animation plot. Display solution  \n",
    "    if not it % iplot:\n",
    "        for l in line1:\n",
    "            l.remove()\n",
    "            del l\n",
    "        for l in line2:\n",
    "            l.remove()\n",
    "            del l\n",
    "\n",
    "        # stretch for plotting\n",
    "        k = 0\n",
    "        for i in range(ne):\n",
    "            for j in range(N+1):\n",
    "                Qs[k] = Q[i,j,0]\n",
    "                Qv[k] = Q[i,j,1]\n",
    "                k = k + 1\n",
    "        # -------------------------------------- \n",
    "        # Display lines\n",
    "        line1 = ax1.plot(xg, Qs, 'k', lw=1.5)\n",
    "        line2 = ax2.plot(xg, Qv, 'r', lw=1.5)\n",
    "        plt.gcf().canvas.draw()\n"
   ]
  }
 ],
 "metadata": {
  "kernelspec": {
   "display_name": "Python 3",
   "language": "python",
   "name": "python3"
  },
  "language_info": {
   "codemirror_mode": {
    "name": "ipython",
    "version": 3
   },
   "file_extension": ".py",
   "mimetype": "text/x-python",
   "name": "python",
   "nbconvert_exporter": "python",
   "pygments_lexer": "ipython3",
   "version": "3.5.2"
  }
 },
 "nbformat": 4,
 "nbformat_minor": 0
}
